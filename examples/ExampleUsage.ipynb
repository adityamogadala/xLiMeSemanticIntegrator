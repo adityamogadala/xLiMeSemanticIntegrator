{
 "cells": [
  {
   "cell_type": "markdown",
   "metadata": {},
   "source": [
    "## Using Rake - Sample Code"
   ]
  },
  {
   "cell_type": "markdown",
   "metadata": {},
   "source": [
    "Here, we see an example of 'rake' algorithm for generating top 3 key phrases from the given text."
   ]
  },
  {
   "cell_type": "code",
   "execution_count": null,
   "metadata": {
    "collapsed": true
   },
   "outputs": [],
   "source": [
    "import sys\n",
    "sys.path.insert(0, '../utils')\n",
    "import rake\n",
    "query = \"From the engineering side, we've also been working on the ability to parallelize training of neural network\"+\n",
    "\"models over multiple GPU cards simultaneously. We worked on minimizing the parallelization overhead while making it\"+\n",
    "\"extremely simple for researchers to use the data-parallel and model-parallel modules (that are part of fbcunn). Once\"+\n",
    "\"the researchers push their model into these easy-to-use containers, the code automatically schedules the model over\"+\n",
    "\"multiple GPUs to maximize speedup.\"\n",
    "rake1 = rake.Rake(\"../utils/SmartStoplist.txt\")\n",
    "vals = rake1.run(query)\n",
    "print vals[0][0], vals[1][0], vals[2][0]"
   ]
  },
  {
   "cell_type": "markdown",
   "metadata": {},
   "source": [
    "## Using Simple Search - Sample Code"
   ]
  },
  {
   "cell_type": "markdown",
   "metadata": {},
   "source": [
    "Here, we see an example of simple search used to find relevant links in News, Social Media and TV with long and short queries. "
   ]
  },
  {
   "cell_type": "code",
   "execution_count": null,
   "metadata": {
    "collapsed": true
   },
   "outputs": [],
   "source": [
    "import sys\n",
    "sys.path.insert(0, '../search')\n",
    "import SimpleKeywordSearch\n",
    "\n",
    "xlimerec = SimpleKeywordSearch.XlimeAdvancedRecommender()\n",
    "long_query = 'From the engineering side, we have also been working on the ability to parallelize training of'+\n",
    "'neural network models over multiple GPU cards simultaneously.'\n",
    "short_query = 'GPU cards'\n",
    "messagelist = xlimerec.recommender(short_query)\n",
    "print '..........Results of Short query..........'\n",
    "print messagelist\n",
    "messagelist = xlimerec.recommender(long_query)\n",
    "print '..........Results of Long query..........'\n",
    "print messagelist"
   ]
  },
  {
   "cell_type": "markdown",
   "metadata": {},
   "source": [
    "## Using Document Comparison - Sample Code"
   ]
  },
  {
   "cell_type": "markdown",
   "metadata": {},
   "source": [
    "Here, we see an example of two documents comparison (long or short) both monolingual and cross-lingual. "
   ]
  },
  {
   "cell_type": "code",
   "execution_count": null,
   "metadata": {
    "collapsed": true
   },
   "outputs": [],
   "source": [
    "# -*- coding: utf-8 -*-\n",
    "import sys\n",
    "sys.path.insert(0, '../docsim')\n",
    "import CompareTwoDocs\n",
    "\n",
    "text1 = \"I do not speak english\"\n",
    "#text1 = \"München bietet in seinen diversen Abteilungen immer\"\n",
    "text2=\"es usted estoy bien dónde está Berlín\"\n",
    "#text1='wie zijt gij, ik ben goed , waar is Berlijn'\n",
    "text3 = \"A statement from Mr Obama's press secretary read: The President will make an historic visit to\"+\n",
    "\"Hiroshima with Prime Minister [Shinzo] Abe to highlight his continued commitment to pursuing peace and security\"+\n",
    "\"in a world without nuclear weapons.\"\n",
    "comparedoc = CompareTwoDocs.CompareDocContent()\n",
    "score = comparedoc.compare(text1,text2)   # Cross-lingual\n",
    "print '[Score between 0 and 1]: ', score\n",
    "score = comparedoc.compare(text1,text3)    # Monolingual\n",
    "print '[Score between 0 and 1]: ', score"
   ]
  }
 ],
 "metadata": {
  "kernelspec": {
   "display_name": "Python 2",
   "language": "python",
   "name": "python2"
  },
  "language_info": {
   "codemirror_mode": {
    "name": "ipython",
    "version": 2
   },
   "file_extension": ".py",
   "mimetype": "text/x-python",
   "name": "python",
   "nbconvert_exporter": "python",
   "pygments_lexer": "ipython2",
   "version": "2.7.6"
  }
 },
 "nbformat": 4,
 "nbformat_minor": 0
}
